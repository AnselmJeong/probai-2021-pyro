{
  "nbformat": 4,
  "nbformat_minor": 0,
  "metadata": {
    "colab": {
      "name": "solution_simple_gaussian_model_pyro.ipynb",
      "provenance": [],
      "include_colab_link": true
    },
    "kernelspec": {
      "display_name": "Python 3",
      "language": "python",
      "name": "python3"
    },
    "language_info": {
      "codemirror_mode": {
        "name": "ipython",
        "version": 3
      },
      "file_extension": ".py",
      "mimetype": "text/x-python",
      "name": "python",
      "nbconvert_exporter": "python",
      "pygments_lexer": "ipython3",
      "version": "3.6.6"
    }
  },
  "cells": [
    {
      "cell_type": "markdown",
      "metadata": {
        "id": "view-in-github",
        "colab_type": "text"
      },
      "source": [
        "<a href=\"https://colab.research.google.com/github/PGM-Lab/probai-2021-pyro/blob/main/Day3/notebooks/solution_simple_gaussian_model_pyro.ipynb\" target=\"_parent\"><img src=\"https://colab.research.google.com/assets/colab-badge.svg\" alt=\"Open In Colab\"/></a>"
      ]
    },
    {
      "cell_type": "markdown",
      "metadata": {
        "id": "dUtkG-f8oeI4"
      },
      "source": [
        "<img src=\"https://github.com/PGM-Lab/probai-2021-pyro/raw/main/Day3/Figures/simple_pyro_exercise.png\">\n",
        "\n"
      ]
    },
    {
      "cell_type": "code",
      "metadata": {
        "id": "45sg92iioeI7",
        "colab": {
          "base_uri": "https://localhost:8080/"
        },
        "outputId": "30c89e9a-2985-40e4-dc10-1dbe80787a7d"
      },
      "source": [
        "!pip install -q --upgrade pyro-ppl torch==1.8.1 seaborn \n",
        "\n",
        "import numpy as np\n",
        "import torch\n",
        "from torch.distributions import constraints\n",
        "import matplotlib.pyplot as plt\n",
        "\n",
        "import pyro\n",
        "from pyro.distributions import Normal, Gamma, MultivariateNormal\n",
        "from pyro.infer import SVI, Trace_ELBO\n",
        "from pyro.optim import Adam\n",
        "import pyro.optim as optim"
      ],
      "execution_count": null,
      "outputs": [
        {
          "output_type": "stream",
          "text": [
            "\u001b[?25l\r\u001b[K     |▌                               | 10kB 11.4MB/s eta 0:00:01\r\u001b[K     |█                               | 20kB 11.0MB/s eta 0:00:01\r\u001b[K     |█▌                              | 30kB 12.7MB/s eta 0:00:01\r\u001b[K     |██                              | 40kB 14.4MB/s eta 0:00:01\r\u001b[K     |██▋                             | 51kB 15.4MB/s eta 0:00:01\r\u001b[K     |███                             | 61kB 10.1MB/s eta 0:00:01\r\u001b[K     |███▋                            | 71kB 10.9MB/s eta 0:00:01\r\u001b[K     |████▏                           | 81kB 11.6MB/s eta 0:00:01\r\u001b[K     |████▋                           | 92kB 10.3MB/s eta 0:00:01\r\u001b[K     |█████▏                          | 102kB 11.0MB/s eta 0:00:01\r\u001b[K     |█████▊                          | 112kB 11.0MB/s eta 0:00:01\r\u001b[K     |██████▏                         | 122kB 11.0MB/s eta 0:00:01\r\u001b[K     |██████▊                         | 133kB 11.0MB/s eta 0:00:01\r\u001b[K     |███████▎                        | 143kB 11.0MB/s eta 0:00:01\r\u001b[K     |███████▊                        | 153kB 11.0MB/s eta 0:00:01\r\u001b[K     |████████▎                       | 163kB 11.0MB/s eta 0:00:01\r\u001b[K     |████████▉                       | 174kB 11.0MB/s eta 0:00:01\r\u001b[K     |█████████▎                      | 184kB 11.0MB/s eta 0:00:01\r\u001b[K     |█████████▉                      | 194kB 11.0MB/s eta 0:00:01\r\u001b[K     |██████████▎                     | 204kB 11.0MB/s eta 0:00:01\r\u001b[K     |██████████▉                     | 215kB 11.0MB/s eta 0:00:01\r\u001b[K     |███████████▍                    | 225kB 11.0MB/s eta 0:00:01\r\u001b[K     |███████████▉                    | 235kB 11.0MB/s eta 0:00:01\r\u001b[K     |████████████▍                   | 245kB 11.0MB/s eta 0:00:01\r\u001b[K     |█████████████                   | 256kB 11.0MB/s eta 0:00:01\r\u001b[K     |█████████████▍                  | 266kB 11.0MB/s eta 0:00:01\r\u001b[K     |██████████████                  | 276kB 11.0MB/s eta 0:00:01\r\u001b[K     |██████████████▌                 | 286kB 11.0MB/s eta 0:00:01\r\u001b[K     |███████████████                 | 296kB 11.0MB/s eta 0:00:01\r\u001b[K     |███████████████▌                | 307kB 11.0MB/s eta 0:00:01\r\u001b[K     |████████████████                | 317kB 11.0MB/s eta 0:00:01\r\u001b[K     |████████████████▌               | 327kB 11.0MB/s eta 0:00:01\r\u001b[K     |█████████████████               | 337kB 11.0MB/s eta 0:00:01\r\u001b[K     |█████████████████▋              | 348kB 11.0MB/s eta 0:00:01\r\u001b[K     |██████████████████              | 358kB 11.0MB/s eta 0:00:01\r\u001b[K     |██████████████████▋             | 368kB 11.0MB/s eta 0:00:01\r\u001b[K     |███████████████████             | 378kB 11.0MB/s eta 0:00:01\r\u001b[K     |███████████████████▋            | 389kB 11.0MB/s eta 0:00:01\r\u001b[K     |████████████████████▏           | 399kB 11.0MB/s eta 0:00:01\r\u001b[K     |████████████████████▋           | 409kB 11.0MB/s eta 0:00:01\r\u001b[K     |█████████████████████▏          | 419kB 11.0MB/s eta 0:00:01\r\u001b[K     |█████████████████████▊          | 430kB 11.0MB/s eta 0:00:01\r\u001b[K     |██████████████████████▏         | 440kB 11.0MB/s eta 0:00:01\r\u001b[K     |██████████████████████▊         | 450kB 11.0MB/s eta 0:00:01\r\u001b[K     |███████████████████████▎        | 460kB 11.0MB/s eta 0:00:01\r\u001b[K     |███████████████████████▊        | 471kB 11.0MB/s eta 0:00:01\r\u001b[K     |████████████████████████▎       | 481kB 11.0MB/s eta 0:00:01\r\u001b[K     |████████████████████████▉       | 491kB 11.0MB/s eta 0:00:01\r\u001b[K     |█████████████████████████▎      | 501kB 11.0MB/s eta 0:00:01\r\u001b[K     |█████████████████████████▉      | 512kB 11.0MB/s eta 0:00:01\r\u001b[K     |██████████████████████████▍     | 522kB 11.0MB/s eta 0:00:01\r\u001b[K     |██████████████████████████▉     | 532kB 11.0MB/s eta 0:00:01\r\u001b[K     |███████████████████████████▍    | 542kB 11.0MB/s eta 0:00:01\r\u001b[K     |███████████████████████████▉    | 552kB 11.0MB/s eta 0:00:01\r\u001b[K     |████████████████████████████▍   | 563kB 11.0MB/s eta 0:00:01\r\u001b[K     |█████████████████████████████   | 573kB 11.0MB/s eta 0:00:01\r\u001b[K     |█████████████████████████████▍  | 583kB 11.0MB/s eta 0:00:01\r\u001b[K     |██████████████████████████████  | 593kB 11.0MB/s eta 0:00:01\r\u001b[K     |██████████████████████████████▌ | 604kB 11.0MB/s eta 0:00:01\r\u001b[K     |███████████████████████████████ | 614kB 11.0MB/s eta 0:00:01\r\u001b[K     |███████████████████████████████▌| 624kB 11.0MB/s eta 0:00:01\r\u001b[K     |████████████████████████████████| 634kB 11.0MB/s \n",
            "\u001b[?25h"
          ],
          "name": "stdout"
        }
      ]
    },
    {
      "cell_type": "markdown",
      "metadata": {
        "id": "upVGYRd6oeI8"
      },
      "source": [
        "## Generate some data"
      ]
    },
    {
      "cell_type": "code",
      "metadata": {
        "id": "x1SeB_bboeI8"
      },
      "source": [
        "# Sample data\n",
        "np.random.seed(123)\n",
        "N = 100\n",
        "correct_mean = 5\n",
        "correct_precision = 1\n",
        "data = torch.tensor(np.random.normal(loc=correct_mean, scale=np.sqrt(1./correct_precision), size=N), dtype=torch.float)\n"
      ],
      "execution_count": null,
      "outputs": []
    },
    {
      "cell_type": "markdown",
      "metadata": {
        "id": "Ho5Uc-OToeI9"
      },
      "source": [
        "## Our model specification"
      ]
    },
    {
      "cell_type": "code",
      "metadata": {
        "id": "stcxQyx5oeI9"
      },
      "source": [
        "def model(data):\n",
        "    gamma = pyro.sample(\"gamma\", Gamma(torch.tensor(1.), torch.tensor(1.)))\n",
        "    mu = pyro.sample(\"mu\", Normal(torch.zeros(1), torch.tensor(10000.0)))\n",
        "    with pyro.plate(\"data\", len(data)):\n",
        "        pyro.sample(\"x\", Normal(loc=mu, scale=torch.sqrt(1. / gamma)), obs=data)"
      ],
      "execution_count": null,
      "outputs": []
    },
    {
      "cell_type": "markdown",
      "metadata": {
        "id": "DsM46XV-oeI9"
      },
      "source": [
        "## Our guide specification"
      ]
    },
    {
      "cell_type": "code",
      "metadata": {
        "id": "N2ejdORDoeI-"
      },
      "source": [
        "def guide(data=None):\n",
        "    alpha = pyro.param(\"alpha\", torch.tensor(1.), constraint=constraints.positive)\n",
        "    beta = pyro.param(\"beta\", torch.tensor(1.), constraint=constraints.positive)\n",
        "    pyro.sample(\"gamma\", Gamma(alpha, beta))\n",
        "\n",
        "    mu_mean = pyro.param(\"mu_mean\", torch.tensor(0.))\n",
        "    mu_scale = pyro.param(\"mu_scale\", torch.tensor(1.), constraint=constraints.positive)\n",
        "    pyro.sample(\"mu\", Normal(mu_mean, mu_scale))"
      ],
      "execution_count": null,
      "outputs": []
    },
    {
      "cell_type": "markdown",
      "metadata": {
        "id": "Cp_F7FgnoeI-"
      },
      "source": [
        "## Do learning"
      ]
    },
    {
      "cell_type": "code",
      "metadata": {
        "colab": {
          "base_uri": "https://localhost:8080/"
        },
        "id": "D4CViT55oeI-",
        "outputId": "d588bade-46de-47e1-d8a9-0faf71ceb9a0"
      },
      "source": [
        "# setup the optimizer\n",
        "adam_args = {\"lr\": 0.01}\n",
        "optimizer = Adam(adam_args)\n",
        "\n",
        "pyro.clear_param_store()\n",
        "svi = SVI(model, guide, optimizer, loss=Trace_ELBO(), num_samples=10)\n",
        "train_elbo = []\n",
        "# training loop\n",
        "for epoch in range(3000):\n",
        "    loss = svi.step(data)\n",
        "    train_elbo.append(-loss)\n",
        "    if (epoch % 500) == 0:\n",
        "        print(\"[epoch %03d] average training loss: %.4f\" % (epoch, loss))"
      ],
      "execution_count": null,
      "outputs": [
        {
          "output_type": "stream",
          "text": [
            "/usr/local/lib/python3.7/dist-packages/pyro/infer/svi.py:53: FutureWarning: The `num_samples` argument to SVI is deprecated and will be removed in a future release. Use `pyro.infer.Predictive` class to draw samples from the posterior.\n",
            "  'samples from the posterior.', FutureWarning)\n"
          ],
          "name": "stderr"
        },
        {
          "output_type": "stream",
          "text": [
            "[epoch 000] average training loss: 2233.1990\n",
            "[epoch 500] average training loss: 261.3453\n",
            "[epoch 1000] average training loss: 307.1373\n",
            "[epoch 1500] average training loss: 180.7612\n",
            "[epoch 2000] average training loss: 167.3455\n",
            "[epoch 2500] average training loss: 170.4080\n"
          ],
          "name": "stdout"
        }
      ]
    },
    {
      "cell_type": "code",
      "metadata": {
        "colab": {
          "base_uri": "https://localhost:8080/"
        },
        "id": "lpmXAE6xoeJA",
        "outputId": "6b697e27-3682-4a2e-bd66-4b2446019924"
      },
      "source": [
        "for name, value in pyro.get_param_store().items():\n",
        "    print(name, pyro.param(name).data.numpy())"
      ],
      "execution_count": null,
      "outputs": [
        {
          "output_type": "stream",
          "text": [
            "alpha 4.1436296\n",
            "beta 4.8866854\n",
            "mu_mean 5.023929\n",
            "mu_scale 0.1595343\n"
          ],
          "name": "stdout"
        }
      ]
    },
    {
      "cell_type": "code",
      "metadata": {
        "colab": {
          "base_uri": "https://localhost:8080/",
          "height": 279
        },
        "id": "bb39F8-loeJB",
        "outputId": "7126820e-4f25-4cf4-ac1c-c1d88b27d3fc"
      },
      "source": [
        "plt.plot(range(len(train_elbo)), train_elbo)\n",
        "plt.xlabel(\"Number of iterations\")\n",
        "plt.ylabel(\"ELBO\")\n",
        "plt.show()"
      ],
      "execution_count": null,
      "outputs": [
        {
          "output_type": "display_data",
          "data": {
            "image/png": "[encoded data removed]",
            "text/plain": [
              "<Figure size 432x288 with 1 Axes>"
            ]
          },
          "metadata": {
            "tags": [],
            "needs_background": "light"
          }
        }
      ]
    }
  ]
}
